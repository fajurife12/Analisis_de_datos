{
 "cells": [
  {
   "cell_type": "code",
   "execution_count": null,
   "metadata": {
    "vscode": {
     "languageId": "plaintext"
    }
   },
   "outputs": [],
   "source": [
    "## Si ya se realizó la descarga de los datos esta celda no es necesaria\n",
    "\n",
    "\n",
    "\n",
    "#import kagglehub\n",
    "#import os\n",
    "\n",
    "# Descargar el dataset\n",
    "#path = kagglehub.dataset_download(\"josetroyatoscano/covid19-colombia-complete-dataset-dec-2023\")\n",
    "\n",
    "#print(\"Dataset downloaded to:\", path)"
   ]
  },
  {
   "cell_type": "code",
   "execution_count": null,
   "metadata": {
    "vscode": {
     "languageId": "plaintext"
    }
   },
   "outputs": [],
   "source": [
    "# Bloque 1: Importación de librerías y carga de datos\n",
    "import pandas as pd\n",
    "import numpy as np\n",
    "import matplotlib.pyplot as plt\n",
    "import seaborn as sns\n",
    "\n",
    "# Configuración para visualizaciones\n",
    "plt.style.use('default')\n",
    "sns.set_palette(\"husl\")\n",
    "\n",
    "# Hubicación del dataset\n",
    "path = \"/home/david/.cache/kagglehub/datasets/josetroyatoscano/covid19-colombia-complete-dataset-dec-2023/versions/1\"\n",
    "path_dataset = path + \"/COVID19 COLOMBIA - Complete Dataset DEC-2023.csv\"\n",
    "\n",
    "# Cargar el dataset\n",
    "df = pd.read_csv(path_dataset)"
   ]
  }
 ],
 "metadata": {
  "language_info": {
   "name": "python"
  }
 },
 "nbformat": 4,
 "nbformat_minor": 2
}

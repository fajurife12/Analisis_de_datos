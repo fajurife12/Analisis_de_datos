{
 "cells": [
  {
   "cell_type": "markdown",
   "id": "e389fb9a",
   "metadata": {},
   "source": [
    "## Fase 2"
   ]
  },
  {
   "cell_type": "markdown",
   "id": "1d5369f4",
   "metadata": {},
   "source": [
    "Revision de valores faltantes"
   ]
  },
  {
   "cell_type": "code",
   "execution_count": 2,
   "id": "8ebdcd13",
   "metadata": {},
   "outputs": [
    {
     "name": "stderr",
     "output_type": "stream",
     "text": [
      "/var/folders/xx/jrhm0x3n7zz82vrx0878nkfm0000gn/T/ipykernel_14456/3882930566.py:3: DtypeWarning: Columns (14) have mixed types. Specify dtype option on import or set low_memory=False.\n",
      "  df = pd.read_csv(\"COVID19 COLOMBIA - Complete Dataset DEC-2023.csv\")\n"
     ]
    },
    {
     "data": {
      "text/html": [
       "<div>\n",
       "<style scoped>\n",
       "    .dataframe tbody tr th:only-of-type {\n",
       "        vertical-align: middle;\n",
       "    }\n",
       "\n",
       "    .dataframe tbody tr th {\n",
       "        vertical-align: top;\n",
       "    }\n",
       "\n",
       "    .dataframe thead th {\n",
       "        text-align: right;\n",
       "    }\n",
       "</style>\n",
       "<table border=\"1\" class=\"dataframe\">\n",
       "  <thead>\n",
       "    <tr style=\"text-align: right;\">\n",
       "      <th></th>\n",
       "      <th>Faltantes</th>\n",
       "      <th>%</th>\n",
       "    </tr>\n",
       "  </thead>\n",
       "  <tbody>\n",
       "    <tr>\n",
       "      <th>Código ISO del país</th>\n",
       "      <td>6383439</td>\n",
       "      <td>99.941977</td>\n",
       "    </tr>\n",
       "    <tr>\n",
       "      <th>Nombre del país</th>\n",
       "      <td>6383431</td>\n",
       "      <td>99.941852</td>\n",
       "    </tr>\n",
       "    <tr>\n",
       "      <th>Nombre del grupo étnico</th>\n",
       "      <td>6303291</td>\n",
       "      <td>98.687144</td>\n",
       "    </tr>\n",
       "    <tr>\n",
       "      <th>Fecha de muerte</th>\n",
       "      <td>6202835</td>\n",
       "      <td>97.114360</td>\n",
       "    </tr>\n",
       "    <tr>\n",
       "      <th>Fecha de inicio de síntomas</th>\n",
       "      <td>505292</td>\n",
       "      <td>7.911078</td>\n",
       "    </tr>\n",
       "    <tr>\n",
       "      <th>Tipo de recuperación</th>\n",
       "      <td>180390</td>\n",
       "      <td>2.824267</td>\n",
       "    </tr>\n",
       "    <tr>\n",
       "      <th>Fecha de recuperación</th>\n",
       "      <td>180316</td>\n",
       "      <td>2.823108</td>\n",
       "    </tr>\n",
       "    <tr>\n",
       "      <th>Estado</th>\n",
       "      <td>41200</td>\n",
       "      <td>0.645046</td>\n",
       "    </tr>\n",
       "    <tr>\n",
       "      <th>Ubicación del caso</th>\n",
       "      <td>41200</td>\n",
       "      <td>0.645046</td>\n",
       "    </tr>\n",
       "    <tr>\n",
       "      <th>Recuperado</th>\n",
       "      <td>36260</td>\n",
       "      <td>0.567703</td>\n",
       "    </tr>\n",
       "    <tr>\n",
       "      <th>Fecha de diagnóstico</th>\n",
       "      <td>2755</td>\n",
       "      <td>0.043134</td>\n",
       "    </tr>\n",
       "    <tr>\n",
       "      <th>Pertenencia étnica</th>\n",
       "      <td>560</td>\n",
       "      <td>0.008768</td>\n",
       "    </tr>\n",
       "    <tr>\n",
       "      <th>Sexo</th>\n",
       "      <td>0</td>\n",
       "      <td>0.000000</td>\n",
       "    </tr>\n",
       "    <tr>\n",
       "      <th>Tipo de contagio</th>\n",
       "      <td>0</td>\n",
       "      <td>0.000000</td>\n",
       "    </tr>\n",
       "    <tr>\n",
       "      <th>ID de caso</th>\n",
       "      <td>0</td>\n",
       "      <td>0.000000</td>\n",
       "    </tr>\n",
       "    <tr>\n",
       "      <th>Unidad de medida de edad</th>\n",
       "      <td>0</td>\n",
       "      <td>0.000000</td>\n",
       "    </tr>\n",
       "    <tr>\n",
       "      <th>Edad</th>\n",
       "      <td>0</td>\n",
       "      <td>0.000000</td>\n",
       "    </tr>\n",
       "    <tr>\n",
       "      <th>Nombre municipio</th>\n",
       "      <td>0</td>\n",
       "      <td>0.000000</td>\n",
       "    </tr>\n",
       "    <tr>\n",
       "      <th>Código DIVIPOLA municipio</th>\n",
       "      <td>0</td>\n",
       "      <td>0.000000</td>\n",
       "    </tr>\n",
       "    <tr>\n",
       "      <th>Nombre departamento</th>\n",
       "      <td>0</td>\n",
       "      <td>0.000000</td>\n",
       "    </tr>\n",
       "    <tr>\n",
       "      <th>Código DIVIPOLA departamento</th>\n",
       "      <td>0</td>\n",
       "      <td>0.000000</td>\n",
       "    </tr>\n",
       "    <tr>\n",
       "      <th>Fecha de notificación</th>\n",
       "      <td>0</td>\n",
       "      <td>0.000000</td>\n",
       "    </tr>\n",
       "    <tr>\n",
       "      <th>fecha reporte web</th>\n",
       "      <td>0</td>\n",
       "      <td>0.000000</td>\n",
       "    </tr>\n",
       "  </tbody>\n",
       "</table>\n",
       "</div>"
      ],
      "text/plain": [
       "                              Faltantes          %\n",
       "Código ISO del país             6383439  99.941977\n",
       "Nombre del país                 6383431  99.941852\n",
       "Nombre del grupo étnico         6303291  98.687144\n",
       "Fecha de muerte                 6202835  97.114360\n",
       "Fecha de inicio de síntomas      505292   7.911078\n",
       "Tipo de recuperación             180390   2.824267\n",
       "Fecha de recuperación            180316   2.823108\n",
       "Estado                            41200   0.645046\n",
       "Ubicación del caso                41200   0.645046\n",
       "Recuperado                        36260   0.567703\n",
       "Fecha de diagnóstico               2755   0.043134\n",
       "Pertenencia étnica                  560   0.008768\n",
       "Sexo                                  0   0.000000\n",
       "Tipo de contagio                      0   0.000000\n",
       "ID de caso                            0   0.000000\n",
       "Unidad de medida de edad              0   0.000000\n",
       "Edad                                  0   0.000000\n",
       "Nombre municipio                      0   0.000000\n",
       "Código DIVIPOLA municipio             0   0.000000\n",
       "Nombre departamento                   0   0.000000\n",
       "Código DIVIPOLA departamento          0   0.000000\n",
       "Fecha de notificación                 0   0.000000\n",
       "fecha reporte web                     0   0.000000"
      ]
     },
     "execution_count": 2,
     "metadata": {},
     "output_type": "execute_result"
    }
   ],
   "source": [
    "import pandas as pd\n",
    "\n",
    "df = pd.read_csv(\"COVID19 COLOMBIA - Complete Dataset DEC-2023.csv\")\n",
    "missing = df.isnull().sum().sort_values(ascending=False)\n",
    "missing_percent = (df.isnull().mean()*100).sort_values(ascending=False)\n",
    "pd.concat([missing, missing_percent], axis=1, keys=[\"Faltantes\", \"%\"])\n",
    "\n"
   ]
  },
  {
   "cell_type": "markdown",
   "id": "5bf65c84",
   "metadata": {},
   "source": [
    "Deteccion de valores atipicos"
   ]
  },
  {
   "cell_type": "code",
   "execution_count": 6,
   "id": "01fe7987",
   "metadata": {},
   "outputs": [
    {
     "data": {
      "text/plain": [
       "<Axes: xlabel='Fecha de diagnóstico'>"
      ]
     },
     "execution_count": 6,
     "metadata": {},
     "output_type": "execute_result"
    },
    {
     "data": {
      "image/png": "[encoded data removed]",
      "text/plain": [
       "<Figure size 640x480 with 1 Axes>"
      ]
     },
     "metadata": {},
     "output_type": "display_data"
    }
   ],
   "source": [
    "import seaborn as sns\n",
    "sns.boxplot(x=df[\"Fecha de diagnóstico\"])"
   ]
  }
 ],
 "metadata": {
  "kernelspec": {
   "display_name": "Python 3",
   "language": "python",
   "name": "python3"
  },
  "language_info": {
   "codemirror_mode": {
    "name": "ipython",
    "version": 3
   },
   "file_extension": ".py",
   "mimetype": "text/x-python",
   "name": "python",
   "nbconvert_exporter": "python",
   "pygments_lexer": "ipython3",
   "version": "3.13.3"
  }
 },
 "nbformat": 4,
 "nbformat_minor": 5
}

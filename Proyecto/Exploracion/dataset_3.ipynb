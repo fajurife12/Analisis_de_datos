{
 "cells": [
  {
   "cell_type": "markdown",
   "metadata": {},
   "source": [
    "# Sobre el dataset 3\n",
    "\n",
    "## Fuente y tipo de datos\n",
    "\n",
    "\n",
    "## Características\n",
    "Número de registros:\n",
    "\n",
    "Atributos:\n",
    "\n",
    "Tamaño de los datos:\n",
    "\n",
    "## Nivel de Documentación disponible y posibles aplicaciones"
   ]
  }
 ],
 "metadata": {
  "language_info": {
   "name": "python"
  }
 },
 "nbformat": 4,
 "nbformat_minor": 2
}
